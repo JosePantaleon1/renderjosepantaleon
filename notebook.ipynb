{
 "cells": [
  {
   "cell_type": "code",
   "execution_count": 2,
   "metadata": {},
   "outputs": [
    {
     "name": "stdout",
     "output_type": "stream",
     "text": [
      "Modelo entrenado y guardado como titanic_model.pkl\n"
     ]
    }
   ],
   "source": [
    "import pandas as pd\n",
    "from sklearn.linear_model import LogisticRegression\n",
    "from sklearn.metrics import accuracy_score\n",
    "import pickle\n",
    "\n",
    "# Load datasets\n",
    "train_data = pd.read_csv(\"train.csv\")\n",
    "test_data = pd.read_csv(\"test.csv\")\n",
    "\n",
    "# Preprocessing function\n",
    "def preprocess(data, is_train=True):\n",
    "    # Select relevant columns for training/testing\n",
    "    columns = [\"Pclass\", \"Sex\", \"Age\"]\n",
    "    if is_train:\n",
    "        columns.append(\"Survived\")  # Include target only for training\n",
    "    \n",
    "    data = data[columns].dropna()\n",
    "    data[\"Sex\"] = data[\"Sex\"].map({\"male\": 0, \"female\": 1})  # Encode 'Sex'\n",
    "    \n",
    "    return data\n",
    "\n",
    "# Apply preprocessing\n",
    "train_data = preprocess(train_data, is_train=True)\n",
    "test_data = preprocess(test_data, is_train=False)\n",
    "\n",
    "# Define features and target\n",
    "X_train = train_data[[\"Pclass\", \"Sex\", \"Age\"]]\n",
    "y_train = train_data[\"Survived\"]\n",
    "\n",
    "X_test = test_data[[\"Pclass\", \"Sex\", \"Age\"]]\n",
    "\n",
    "# Train the Logistic Regression model\n",
    "model = LogisticRegression()\n",
    "model.fit(X_train, y_train)\n",
    "\n",
    "# (Optional) Predict on test data\n",
    "# Since `test.csv` has no 'Survived' column, predictions can't be evaluated but can be saved\n",
    "test_predictions = model.predict(X_test)\n",
    "\n",
    "# Save the trained model\n",
    "with open(\"titanic_model.pkl\", \"wb\") as f:\n",
    "    pickle.dump(model, f)\n",
    "\n",
    "print(\"Modelo entrenado y guardado como titanic_model.pkl\")\n"
   ]
  },
  {
   "cell_type": "code",
   "execution_count": null,
   "metadata": {},
   "outputs": [],
   "source": []
  }
 ],
 "metadata": {
  "kernelspec": {
   "display_name": "deep_learning",
   "language": "python",
   "name": "python3"
  },
  "language_info": {
   "codemirror_mode": {
    "name": "ipython",
    "version": 3
   },
   "file_extension": ".py",
   "mimetype": "text/x-python",
   "name": "python",
   "nbconvert_exporter": "python",
   "pygments_lexer": "ipython3",
   "version": "3.10.15"
  }
 },
 "nbformat": 4,
 "nbformat_minor": 2
}
